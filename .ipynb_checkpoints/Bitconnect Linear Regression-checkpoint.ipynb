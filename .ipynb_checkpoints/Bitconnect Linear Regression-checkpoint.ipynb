{
 "cells": [
  {
   "cell_type": "code",
   "execution_count": 2,
   "metadata": {},
   "outputs": [
    {
     "name": "stdout",
     "output_type": "stream",
     "text": [
      "      Unnamed: 0        Date      Open      High       Low     Close  \\\n",
      "0              0  21-05-2021  2.200000  2.270000  1.840000  2.010000   \n",
      "1              1  20-05-2021  2.010000  2.280000  1.910000  2.190000   \n",
      "2              2  19-05-2021  2.310000  2.340000  1.680000  2.010000   \n",
      "3              3  18-05-2021  2.190000  2.500000  2.180000  2.320000   \n",
      "4              4  17-05-2021  2.250000  2.300000  2.060000  2.190000   \n",
      "...          ...         ...       ...       ...       ...       ...   \n",
      "1576        1576  26-01-2017  0.152959  0.671748  0.134264  0.142972   \n",
      "1577        1577  25-01-2017  0.128182  0.156983  0.126968  0.154695   \n",
      "1578        1578  24-01-2017  0.174903  0.178088  0.123697  0.128067   \n",
      "1579        1579  23-01-2017  0.145710  0.236289  0.144554  0.174829   \n",
      "1580        1580  22-01-2017  0.162671  0.166808  0.145625  0.145625   \n",
      "\n",
      "        Volume  Volume(BCC)  \n",
      "0         0.00         0.00  \n",
      "1         0.00         0.00  \n",
      "2         0.00         0.00  \n",
      "3        18.81         8.01  \n",
      "4         4.26         1.92  \n",
      "...        ...          ...  \n",
      "1576  33237.00    120648.71  \n",
      "1577   6921.00     48840.21  \n",
      "1578    526.00      3479.09  \n",
      "1579  12872.00     73409.35  \n",
      "1580   5978.00     38522.45  \n",
      "\n",
      "[1581 rows x 8 columns]\n"
     ]
    },
    {
     "data": {
      "text/html": [
       "<div>\n",
       "<style scoped>\n",
       "    .dataframe tbody tr th:only-of-type {\n",
       "        vertical-align: middle;\n",
       "    }\n",
       "\n",
       "    .dataframe tbody tr th {\n",
       "        vertical-align: top;\n",
       "    }\n",
       "\n",
       "    .dataframe thead th {\n",
       "        text-align: right;\n",
       "    }\n",
       "</style>\n",
       "<table border=\"1\" class=\"dataframe\">\n",
       "  <thead>\n",
       "    <tr style=\"text-align: right;\">\n",
       "      <th></th>\n",
       "      <th>Unnamed: 0</th>\n",
       "      <th>Date</th>\n",
       "      <th>Open</th>\n",
       "      <th>High</th>\n",
       "      <th>Low</th>\n",
       "      <th>Close</th>\n",
       "      <th>Volume</th>\n",
       "      <th>Volume(BCC)</th>\n",
       "    </tr>\n",
       "  </thead>\n",
       "  <tbody>\n",
       "    <tr>\n",
       "      <th>0</th>\n",
       "      <td>0</td>\n",
       "      <td>21-05-2021</td>\n",
       "      <td>2.20</td>\n",
       "      <td>2.27</td>\n",
       "      <td>1.84</td>\n",
       "      <td>2.01</td>\n",
       "      <td>0.00</td>\n",
       "      <td>0.00</td>\n",
       "    </tr>\n",
       "    <tr>\n",
       "      <th>1</th>\n",
       "      <td>1</td>\n",
       "      <td>20-05-2021</td>\n",
       "      <td>2.01</td>\n",
       "      <td>2.28</td>\n",
       "      <td>1.91</td>\n",
       "      <td>2.19</td>\n",
       "      <td>0.00</td>\n",
       "      <td>0.00</td>\n",
       "    </tr>\n",
       "    <tr>\n",
       "      <th>2</th>\n",
       "      <td>2</td>\n",
       "      <td>19-05-2021</td>\n",
       "      <td>2.31</td>\n",
       "      <td>2.34</td>\n",
       "      <td>1.68</td>\n",
       "      <td>2.01</td>\n",
       "      <td>0.00</td>\n",
       "      <td>0.00</td>\n",
       "    </tr>\n",
       "    <tr>\n",
       "      <th>3</th>\n",
       "      <td>3</td>\n",
       "      <td>18-05-2021</td>\n",
       "      <td>2.19</td>\n",
       "      <td>2.50</td>\n",
       "      <td>2.18</td>\n",
       "      <td>2.32</td>\n",
       "      <td>18.81</td>\n",
       "      <td>8.01</td>\n",
       "    </tr>\n",
       "    <tr>\n",
       "      <th>4</th>\n",
       "      <td>4</td>\n",
       "      <td>17-05-2021</td>\n",
       "      <td>2.25</td>\n",
       "      <td>2.30</td>\n",
       "      <td>2.06</td>\n",
       "      <td>2.19</td>\n",
       "      <td>4.26</td>\n",
       "      <td>1.92</td>\n",
       "    </tr>\n",
       "  </tbody>\n",
       "</table>\n",
       "</div>"
      ],
      "text/plain": [
       "   Unnamed: 0        Date  Open  High   Low  Close  Volume  Volume(BCC)\n",
       "0           0  21-05-2021  2.20  2.27  1.84   2.01    0.00         0.00\n",
       "1           1  20-05-2021  2.01  2.28  1.91   2.19    0.00         0.00\n",
       "2           2  19-05-2021  2.31  2.34  1.68   2.01    0.00         0.00\n",
       "3           3  18-05-2021  2.19  2.50  2.18   2.32   18.81         8.01\n",
       "4           4  17-05-2021  2.25  2.30  2.06   2.19    4.26         1.92"
      ]
     },
     "execution_count": 2,
     "metadata": {},
     "output_type": "execute_result"
    }
   ],
   "source": [
    "%matplotlib inline\n",
    "import numpy as np\n",
    "import pandas as pd\n",
    "import matplotlib.pyplot as plt\n",
    "plt.rcParams['figure.figsize'] = (20.0, 10.0)\n",
    "\n",
    "data = pd.read_csv(r\"C:\\Users\\Elank\\Documents\\Backup laptop\\Semester 6\\Pengantar Big Data\\Dataset\\Dead Coin\\Bitconnect.csv\")\n",
    "print(data)\n",
    "data.head()"
   ]
  },
  {
   "cell_type": "code",
   "execution_count": 4,
   "metadata": {},
   "outputs": [],
   "source": [
    "X = data['Close'].values\n",
    "Y = data[\"Volume(BCC)\"].values"
   ]
  },
  {
   "cell_type": "code",
   "execution_count": 5,
   "metadata": {},
   "outputs": [
    {
     "name": "stdout",
     "output_type": "stream",
     "text": [
      "224.9376167221985 17083.834790873967\n"
     ]
    }
   ],
   "source": [
    "mean_x = np.mean(X)\n",
    "mean_y = np.mean(Y)\n",
    "\n",
    "m = len(X)\n",
    "\n",
    "numer = 0\n",
    "denom = 0\n",
    "for i in range(m):\n",
    "    numer += (X[i] - mean_x) * (Y[i] - mean_y)\n",
    "    denom += (X[i] - mean_x) ** 2\n",
    "b1 = numer / denom\n",
    "b0 = mean_y - (b1 * mean_x)\n",
    "\n",
    "print(b1, b0)"
   ]
  },
  {
   "cell_type": "code",
   "execution_count": 6,
   "metadata": {},
   "outputs": [
    {
     "data": {
      "image/png": "[encoded data removed]",
      "text/plain": [
       "<Figure size 1440x720 with 1 Axes>"
      ]
     },
     "metadata": {
      "needs_background": "light"
     },
     "output_type": "display_data"
    }
   ],
   "source": [
    "max_x = np.max(X) + 100\n",
    "min_x = np.min(X) - 100\n",
    "\n",
    "x = np.linspace(min_x, max_x, 1000)\n",
    "y = b0 + b1 * x\n",
    "\n",
    "plt.plot(x, y, color='#58b970', label='Regression Line')\n",
    "\n",
    "plt.scatter(X, Y, color='#ef5423', label='Scatter Plot')\n",
    "\n",
    "plt.xlabel('Close')\n",
    "plt.ylabel('Market Cap')\n",
    "plt.legend()\n",
    "plt.show()"
   ]
  },
  {
   "cell_type": "code",
   "execution_count": null,
   "metadata": {},
   "outputs": [],
   "source": []
  }
 ],
 "metadata": {
  "kernelspec": {
   "display_name": "Python 3",
   "language": "python",
   "name": "python3"
  },
  "language_info": {
   "codemirror_mode": {
    "name": "ipython",
    "version": 3
   },
   "file_extension": ".py",
   "mimetype": "text/x-python",
   "name": "python",
   "nbconvert_exporter": "python",
   "pygments_lexer": "ipython3",
   "version": "3.8.5"
  }
 },
 "nbformat": 4,
 "nbformat_minor": 4
}
